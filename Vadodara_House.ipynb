{
 "cells": [
  {
   "cell_type": "code",
   "execution_count": 3246,
   "metadata": {},
   "outputs": [],
   "source": [
    "import numpy as np\n",
    "import pandas as pd\n",
    "import pickle\n",
    "from sklearn.model_selection import train_test_split\n",
    "from sklearn.preprocessing import LabelEncoder\n",
    "from sklearn.preprocessing import OneHotEncoder\n",
    "from sklearn.preprocessing import StandardScaler\n",
    "from sklearn.ensemble import RandomForestRegressor\n",
    "from sklearn import model_selection"
   ]
  },
  {
   "cell_type": "code",
   "execution_count": 3247,
   "metadata": {},
   "outputs": [
    {
     "data": {
      "text/html": [
       "<div>\n",
       "<style scoped>\n",
       "    .dataframe tbody tr th:only-of-type {\n",
       "        vertical-align: middle;\n",
       "    }\n",
       "\n",
       "    .dataframe tbody tr th {\n",
       "        vertical-align: top;\n",
       "    }\n",
       "\n",
       "    .dataframe thead th {\n",
       "        text-align: right;\n",
       "    }\n",
       "</style>\n",
       "<table border=\"1\" class=\"dataframe\">\n",
       "  <thead>\n",
       "    <tr style=\"text-align: right;\">\n",
       "      <th></th>\n",
       "      <th>h_type</th>\n",
       "      <th>location</th>\n",
       "      <th>society</th>\n",
       "      <th>size</th>\n",
       "      <th>bathroom</th>\n",
       "      <th>balcony</th>\n",
       "      <th>total_sqft</th>\n",
       "      <th>yr_built</th>\n",
       "      <th>furniture</th>\n",
       "      <th>sale_type</th>\n",
       "      <th>...</th>\n",
       "      <th>college</th>\n",
       "      <th>hospital</th>\n",
       "      <th>population</th>\n",
       "      <th>railway</th>\n",
       "      <th>airport</th>\n",
       "      <th>on_road</th>\n",
       "      <th>air_quality</th>\n",
       "      <th>restaurant</th>\n",
       "      <th>park</th>\n",
       "      <th>price</th>\n",
       "    </tr>\n",
       "  </thead>\n",
       "  <tbody>\n",
       "    <tr>\n",
       "      <th>0</th>\n",
       "      <td>apartment</td>\n",
       "      <td>Maneja</td>\n",
       "      <td>Bakeri Swara</td>\n",
       "      <td>3 BHK</td>\n",
       "      <td>3</td>\n",
       "      <td>1</td>\n",
       "      <td>1550.0</td>\n",
       "      <td>2011.0</td>\n",
       "      <td>0</td>\n",
       "      <td>new</td>\n",
       "      <td>...</td>\n",
       "      <td>0</td>\n",
       "      <td>1</td>\n",
       "      <td>2</td>\n",
       "      <td>0</td>\n",
       "      <td>0</td>\n",
       "      <td>1</td>\n",
       "      <td>1</td>\n",
       "      <td>1</td>\n",
       "      <td>1</td>\n",
       "      <td>4361705</td>\n",
       "    </tr>\n",
       "    <tr>\n",
       "      <th>1</th>\n",
       "      <td>apartment</td>\n",
       "      <td>Maneja</td>\n",
       "      <td>Bakeri Swara</td>\n",
       "      <td>3 BHK</td>\n",
       "      <td>3</td>\n",
       "      <td>1</td>\n",
       "      <td>1550.0</td>\n",
       "      <td>2012.0</td>\n",
       "      <td>1</td>\n",
       "      <td>new</td>\n",
       "      <td>...</td>\n",
       "      <td>0</td>\n",
       "      <td>1</td>\n",
       "      <td>2</td>\n",
       "      <td>0</td>\n",
       "      <td>0</td>\n",
       "      <td>1</td>\n",
       "      <td>1</td>\n",
       "      <td>1</td>\n",
       "      <td>1</td>\n",
       "      <td>5001905</td>\n",
       "    </tr>\n",
       "    <tr>\n",
       "      <th>2</th>\n",
       "      <td>apartment</td>\n",
       "      <td>Maneja</td>\n",
       "      <td>Bakeri Swara</td>\n",
       "      <td>3 BHK</td>\n",
       "      <td>3</td>\n",
       "      <td>1</td>\n",
       "      <td>1860.0</td>\n",
       "      <td>2010.0</td>\n",
       "      <td>1</td>\n",
       "      <td>new</td>\n",
       "      <td>...</td>\n",
       "      <td>0</td>\n",
       "      <td>1</td>\n",
       "      <td>2</td>\n",
       "      <td>0</td>\n",
       "      <td>0</td>\n",
       "      <td>1</td>\n",
       "      <td>1</td>\n",
       "      <td>1</td>\n",
       "      <td>1</td>\n",
       "      <td>5588795</td>\n",
       "    </tr>\n",
       "    <tr>\n",
       "      <th>3</th>\n",
       "      <td>apartment</td>\n",
       "      <td>Maneja</td>\n",
       "      <td>Bakeri Swara</td>\n",
       "      <td>2 BHK</td>\n",
       "      <td>2</td>\n",
       "      <td>1</td>\n",
       "      <td>1015.0</td>\n",
       "      <td>2016.0</td>\n",
       "      <td>1</td>\n",
       "      <td>new</td>\n",
       "      <td>...</td>\n",
       "      <td>0</td>\n",
       "      <td>1</td>\n",
       "      <td>2</td>\n",
       "      <td>0</td>\n",
       "      <td>0</td>\n",
       "      <td>1</td>\n",
       "      <td>1</td>\n",
       "      <td>1</td>\n",
       "      <td>1</td>\n",
       "      <td>3184740</td>\n",
       "    </tr>\n",
       "    <tr>\n",
       "      <th>4</th>\n",
       "      <td>apartment</td>\n",
       "      <td>Maneja</td>\n",
       "      <td>Bakeri Swara</td>\n",
       "      <td>2 BHK</td>\n",
       "      <td>2</td>\n",
       "      <td>1</td>\n",
       "      <td>1210.0</td>\n",
       "      <td>2019.0</td>\n",
       "      <td>0</td>\n",
       "      <td>new</td>\n",
       "      <td>...</td>\n",
       "      <td>0</td>\n",
       "      <td>1</td>\n",
       "      <td>2</td>\n",
       "      <td>0</td>\n",
       "      <td>0</td>\n",
       "      <td>1</td>\n",
       "      <td>1</td>\n",
       "      <td>1</td>\n",
       "      <td>1</td>\n",
       "      <td>3498895</td>\n",
       "    </tr>\n",
       "  </tbody>\n",
       "</table>\n",
       "<p>5 rows × 24 columns</p>\n",
       "</div>"
      ],
      "text/plain": [
       "      h_type location       society   size  bathroom  balcony  total_sqft  \\\n",
       "0  apartment   Maneja  Bakeri Swara  3 BHK         3        1      1550.0   \n",
       "1  apartment   Maneja  Bakeri Swara  3 BHK         3        1      1550.0   \n",
       "2  apartment   Maneja  Bakeri Swara  3 BHK         3        1      1860.0   \n",
       "3  apartment   Maneja  Bakeri Swara  2 BHK         2        1      1015.0   \n",
       "4  apartment   Maneja  Bakeri Swara  2 BHK         2        1      1210.0   \n",
       "\n",
       "   yr_built  furniture sale_type  ...  college  hospital  population  railway  \\\n",
       "0    2011.0          0       new  ...        0         1           2        0   \n",
       "1    2012.0          1       new  ...        0         1           2        0   \n",
       "2    2010.0          1       new  ...        0         1           2        0   \n",
       "3    2016.0          1       new  ...        0         1           2        0   \n",
       "4    2019.0          0       new  ...        0         1           2        0   \n",
       "\n",
       "   airport  on_road  air_quality  restaurant  park    price  \n",
       "0        0        1            1           1     1  4361705  \n",
       "1        0        1            1           1     1  5001905  \n",
       "2        0        1            1           1     1  5588795  \n",
       "3        0        1            1           1     1  3184740  \n",
       "4        0        1            1           1     1  3498895  \n",
       "\n",
       "[5 rows x 24 columns]"
      ]
     },
     "execution_count": 3247,
     "metadata": {},
     "output_type": "execute_result"
    }
   ],
   "source": [
    "data = pd.read_csv(\"./vadodara_house_price_dataset_new.csv\")\n",
    "data.head()"
   ]
  },
  {
   "cell_type": "code",
   "execution_count": 3248,
   "metadata": {},
   "outputs": [
    {
     "data": {
      "text/html": [
       "<div>\n",
       "<style scoped>\n",
       "    .dataframe tbody tr th:only-of-type {\n",
       "        vertical-align: middle;\n",
       "    }\n",
       "\n",
       "    .dataframe tbody tr th {\n",
       "        vertical-align: top;\n",
       "    }\n",
       "\n",
       "    .dataframe thead th {\n",
       "        text-align: right;\n",
       "    }\n",
       "</style>\n",
       "<table border=\"1\" class=\"dataframe\">\n",
       "  <thead>\n",
       "    <tr style=\"text-align: right;\">\n",
       "      <th></th>\n",
       "      <th>h_type</th>\n",
       "      <th>location</th>\n",
       "      <th>size</th>\n",
       "      <th>bathroom</th>\n",
       "      <th>balcony</th>\n",
       "      <th>total_sqft</th>\n",
       "      <th>price</th>\n",
       "    </tr>\n",
       "  </thead>\n",
       "  <tbody>\n",
       "    <tr>\n",
       "      <th>0</th>\n",
       "      <td>apartment</td>\n",
       "      <td>Maneja</td>\n",
       "      <td>3 BHK</td>\n",
       "      <td>3</td>\n",
       "      <td>1</td>\n",
       "      <td>1550.0</td>\n",
       "      <td>4361705</td>\n",
       "    </tr>\n",
       "    <tr>\n",
       "      <th>1</th>\n",
       "      <td>apartment</td>\n",
       "      <td>Maneja</td>\n",
       "      <td>3 BHK</td>\n",
       "      <td>3</td>\n",
       "      <td>1</td>\n",
       "      <td>1550.0</td>\n",
       "      <td>5001905</td>\n",
       "    </tr>\n",
       "    <tr>\n",
       "      <th>2</th>\n",
       "      <td>apartment</td>\n",
       "      <td>Maneja</td>\n",
       "      <td>3 BHK</td>\n",
       "      <td>3</td>\n",
       "      <td>1</td>\n",
       "      <td>1860.0</td>\n",
       "      <td>5588795</td>\n",
       "    </tr>\n",
       "    <tr>\n",
       "      <th>3</th>\n",
       "      <td>apartment</td>\n",
       "      <td>Maneja</td>\n",
       "      <td>2 BHK</td>\n",
       "      <td>2</td>\n",
       "      <td>1</td>\n",
       "      <td>1015.0</td>\n",
       "      <td>3184740</td>\n",
       "    </tr>\n",
       "    <tr>\n",
       "      <th>4</th>\n",
       "      <td>apartment</td>\n",
       "      <td>Maneja</td>\n",
       "      <td>2 BHK</td>\n",
       "      <td>2</td>\n",
       "      <td>1</td>\n",
       "      <td>1210.0</td>\n",
       "      <td>3498895</td>\n",
       "    </tr>\n",
       "  </tbody>\n",
       "</table>\n",
       "</div>"
      ],
      "text/plain": [
       "      h_type location   size  bathroom  balcony  total_sqft    price\n",
       "0  apartment   Maneja  3 BHK         3        1      1550.0  4361705\n",
       "1  apartment   Maneja  3 BHK         3        1      1550.0  5001905\n",
       "2  apartment   Maneja  3 BHK         3        1      1860.0  5588795\n",
       "3  apartment   Maneja  2 BHK         2        1      1015.0  3184740\n",
       "4  apartment   Maneja  2 BHK         2        1      1210.0  3498895"
      ]
     },
     "execution_count": 3248,
     "metadata": {},
     "output_type": "execute_result"
    }
   ],
   "source": [
    "data = data.drop(['society', 'yr_built', 'furniture', 'sale_type', 'amenities', 'market', 'office', 'school', 'college', 'hospital', 'population', 'railway', 'airport', 'on_road', 'air_quality', 'restaurant', 'park'], axis=1)\n",
    "data.head()"
   ]
  },
  {
   "cell_type": "code",
   "execution_count": 3249,
   "metadata": {},
   "outputs": [
    {
     "data": {
      "text/plain": [
       "h_type        0\n",
       "location      0\n",
       "size          0\n",
       "bathroom      0\n",
       "balcony       0\n",
       "total_sqft    0\n",
       "price         0\n",
       "dtype: int64"
      ]
     },
     "execution_count": 3249,
     "metadata": {},
     "output_type": "execute_result"
    }
   ],
   "source": [
    "data.isnull().sum()"
   ]
  },
  {
   "cell_type": "code",
   "execution_count": 3250,
   "metadata": {},
   "outputs": [
    {
     "data": {
      "text/plain": [
       "array([['apartment', 'Maneja', '3 BHK', 3, 1, 1550.0],\n",
       "       ['apartment', 'Maneja', '3 BHK', 3, 1, 1550.0],\n",
       "       ['apartment', 'Maneja', '3 BHK', 3, 1, 1860.0],\n",
       "       ...,\n",
       "       ['apartment', 'Gotri', '3 BHK', 3, 3, 1550.0],\n",
       "       ['apartment', 'Gotri', '3 BHK', 3, 2, 1750.0],\n",
       "       ['apartment', 'Gotri', '2 BHK', 2, 3, 1200.0]], dtype=object)"
      ]
     },
     "execution_count": 3250,
     "metadata": {},
     "output_type": "execute_result"
    }
   ],
   "source": [
    "df = data.iloc[ : , :-1].values\n",
    "df"
   ]
  },
  {
   "cell_type": "code",
   "execution_count": 3251,
   "metadata": {},
   "outputs": [],
   "source": [
    "label_encoder = LabelEncoder()"
   ]
  },
  {
   "cell_type": "code",
   "execution_count": 3252,
   "metadata": {},
   "outputs": [
    {
     "data": {
      "text/plain": [
       "array([[0, 'Maneja', '3 BHK', 3, 1, 1550.0],\n",
       "       [0, 'Maneja', '3 BHK', 3, 1, 1550.0],\n",
       "       [0, 'Maneja', '3 BHK', 3, 1, 1860.0],\n",
       "       ...,\n",
       "       [0, 'Gotri', '3 BHK', 3, 3, 1550.0],\n",
       "       [0, 'Gotri', '3 BHK', 3, 2, 1750.0],\n",
       "       [0, 'Gotri', '2 BHK', 2, 3, 1200.0]], dtype=object)"
      ]
     },
     "execution_count": 3252,
     "metadata": {},
     "output_type": "execute_result"
    }
   ],
   "source": [
    "df[ : ,0] = label_encoder.fit_transform(df[ : ,0])\n",
    "df"
   ]
  },
  {
   "cell_type": "code",
   "execution_count": 3253,
   "metadata": {},
   "outputs": [
    {
     "data": {
      "text/plain": [
       "{'apartment': 0,\n",
       " 'duplex': 1,\n",
       " 'pent house': 2,\n",
       " 'tenament': 3,\n",
       " 'triplex': 4,\n",
       " 'villa': 5}"
      ]
     },
     "execution_count": 3253,
     "metadata": {},
     "output_type": "execute_result"
    }
   ],
   "source": [
    "mapping = dict(zip(label_encoder.classes_, label_encoder.transform(label_encoder.classes_)))\n",
    "mapping"
   ]
  },
  {
   "cell_type": "code",
   "execution_count": 3254,
   "metadata": {},
   "outputs": [
    {
     "data": {
      "text/plain": [
       "array([[0, 15, '3 BHK', 3, 1, 1550.0],\n",
       "       [0, 15, '3 BHK', 3, 1, 1550.0],\n",
       "       [0, 15, '3 BHK', 3, 1, 1860.0],\n",
       "       ...,\n",
       "       [0, 8, '3 BHK', 3, 3, 1550.0],\n",
       "       [0, 8, '3 BHK', 3, 2, 1750.0],\n",
       "       [0, 8, '2 BHK', 2, 3, 1200.0]], dtype=object)"
      ]
     },
     "execution_count": 3254,
     "metadata": {},
     "output_type": "execute_result"
    }
   ],
   "source": [
    "df[ : ,1] = label_encoder.fit_transform(df[ : ,1])\n",
    "df"
   ]
  },
  {
   "cell_type": "code",
   "execution_count": 3255,
   "metadata": {},
   "outputs": [
    {
     "data": {
      "text/plain": [
       "{'Ajwa Road': 0,\n",
       " 'Akota': 1,\n",
       " 'Alkapuri': 2,\n",
       " 'Atladra': 3,\n",
       " 'Bhayli': 4,\n",
       " 'Chhani': 5,\n",
       " 'Fatehgunj': 6,\n",
       " 'Gorwa': 7,\n",
       " 'Gotri': 8,\n",
       " 'Harni': 9,\n",
       " 'Karelibaug': 10,\n",
       " 'Khodiyar Nagar': 11,\n",
       " 'Laxmipura': 12,\n",
       " 'Madhav Pura': 13,\n",
       " 'Mandvi': 14,\n",
       " 'Maneja': 15,\n",
       " 'Manjalpur': 16,\n",
       " 'Navapura': 17,\n",
       " 'New Alkapuri': 18,\n",
       " 'New Karelibaugh': 19,\n",
       " 'New Sama': 20,\n",
       " 'New VIP Road': 21,\n",
       " 'Sama': 22,\n",
       " 'Sayajipura': 23,\n",
       " 'Soma Talav': 24,\n",
       " 'Vasant Vihar': 25,\n",
       " 'Vasna Road': 26,\n",
       " 'Vasna-Bhayli Road': 27,\n",
       " 'Waghodia Road': 28}"
      ]
     },
     "execution_count": 3255,
     "metadata": {},
     "output_type": "execute_result"
    }
   ],
   "source": [
    "mapping = dict(zip(label_encoder.classes_, label_encoder.transform(label_encoder.classes_)))\n",
    "mapping"
   ]
  },
  {
   "cell_type": "code",
   "execution_count": 3256,
   "metadata": {},
   "outputs": [
    {
     "data": {
      "text/plain": [
       "array([[0, 15, 2, 3, 1, 1550.0],\n",
       "       [0, 15, 2, 3, 1, 1550.0],\n",
       "       [0, 15, 2, 3, 1, 1860.0],\n",
       "       ...,\n",
       "       [0, 8, 2, 3, 3, 1550.0],\n",
       "       [0, 8, 2, 3, 2, 1750.0],\n",
       "       [0, 8, 1, 2, 3, 1200.0]], dtype=object)"
      ]
     },
     "execution_count": 3256,
     "metadata": {},
     "output_type": "execute_result"
    }
   ],
   "source": [
    "df[ : ,2] = label_encoder.fit_transform(df[ : ,2])\n",
    "df"
   ]
  },
  {
   "cell_type": "code",
   "execution_count": 3257,
   "metadata": {},
   "outputs": [
    {
     "data": {
      "text/plain": [
       "{'1 BHK': 0, '2 BHK': 1, '3 BHK': 2, '4 BHK': 3, '5 BHK': 4}"
      ]
     },
     "execution_count": 3257,
     "metadata": {},
     "output_type": "execute_result"
    }
   ],
   "source": [
    "mapping = dict(zip(label_encoder.classes_, label_encoder.transform(label_encoder.classes_)))\n",
    "mapping"
   ]
  },
  {
   "cell_type": "code",
   "execution_count": 3258,
   "metadata": {},
   "outputs": [],
   "source": [
    "y = data.price.values\n",
    "X = df"
   ]
  },
  {
   "cell_type": "code",
   "execution_count": 3259,
   "metadata": {},
   "outputs": [],
   "source": [
    "X_train, X_val, y_train, y_val = train_test_split(X, y,test_size=0.2)"
   ]
  },
  {
   "cell_type": "code",
   "execution_count": 3260,
   "metadata": {},
   "outputs": [],
   "source": [
    "standard_x = StandardScaler()"
   ]
  },
  {
   "cell_type": "code",
   "execution_count": 3261,
   "metadata": {},
   "outputs": [],
   "source": [
    "X_train = standard_x.fit_transform(X_train)\n",
    "X_val = standard_x.transform(X_val)"
   ]
  },
  {
   "cell_type": "code",
   "execution_count": 3262,
   "metadata": {},
   "outputs": [
    {
     "name": "stdout",
     "output_type": "stream",
     "text": [
      "Train_Shape:  (272, 6)\n",
      "\n",
      "X_train:\n"
     ]
    },
    {
     "data": {
      "text/plain": [
       "array([[-0.42808807, -1.40957467,  0.32060177, -0.66571012, -0.58368999,\n",
       "         0.3085257 ],\n",
       "       [-0.42808807,  0.62525268,  0.32060177, -0.66571012,  1.62136109,\n",
       "        -0.2147163 ],\n",
       "       [-0.42808807,  0.19686797,  0.32060177,  0.39942607, -0.58368999,\n",
       "         0.1486462 ],\n",
       "       ...,\n",
       "       [-0.42808807, -0.44570909,  0.32060177,  0.39942607,  0.51883555,\n",
       "        -0.5577305 ],\n",
       "       [-0.42808807, -0.76699761, -0.85782636, -0.66571012, -0.58368999,\n",
       "        -0.8687688 ],\n",
       "       [ 1.16697981,  0.83944503,  0.32060177,  0.39942607,  0.51883555,\n",
       "         1.60209621]])"
      ]
     },
     "execution_count": 3262,
     "metadata": {},
     "output_type": "execute_result"
    }
   ],
   "source": [
    "print('Train_Shape: ',X_train.shape)\n",
    "print(\"\\nX_train:\")\n",
    "X_train"
   ]
  },
  {
   "cell_type": "code",
   "execution_count": 3263,
   "metadata": {},
   "outputs": [
    {
     "name": "stdout",
     "output_type": "stream",
     "text": [
      "Val_Shape:  (68, 6)\n",
      "\n",
      "X_val:\n"
     ]
    },
    {
     "data": {
      "text/plain": [
       "array([[ 0.36944587,  1.26782973,  0.32060177,  0.39942607, -0.58368999,\n",
       "         1.05705246],\n",
       "       [-0.42808807, -0.33861291,  1.49902989,  2.52969847,  3.82641217,\n",
       "         2.95671162],\n",
       "       [-0.42808807, -1.08828614, -0.85782636, -0.66571012, -0.58368999,\n",
       "        -0.4327338 ],\n",
       "       [-0.42808807, -0.33861291, -0.85782636, -0.66571012,  0.51883555,\n",
       "         0.11230995],\n",
       "       [-0.42808807,  0.9465412 , -0.85782636, -0.66571012, -0.58368999,\n",
       "        -1.09696045],\n",
       "       [-0.42808807,  1.48202208, -0.85782636, -0.66571012,  0.51883555,\n",
       "        -0.49813905],\n",
       "       [-0.42808807, -0.44570909, -0.85782636, -0.66571012, -1.68621553,\n",
       "        -0.28012155],\n",
       "       [-0.42808807,  0.5181565 ,  1.49902989,  1.46456227,  0.51883555,\n",
       "         2.11080371],\n",
       "       [ 2.76204769,  0.30396415,  1.49902989,  0.39942607,  0.51883555,\n",
       "         1.09338871],\n",
       "       [-0.42808807, -0.44570909, -0.85782636, -0.66571012, -0.58368999,\n",
       "        -0.18710075],\n",
       "       [-0.42808807,  1.37492591, -0.85782636, -0.66571012,  0.51883555,\n",
       "        -0.2147163 ],\n",
       "       [-0.42808807, -0.44570909,  0.32060177,  0.39942607, -0.58368999,\n",
       "         0.67188821],\n",
       "       [-0.42808807, -1.40957467, -0.85782636, -0.66571012, -0.58368999,\n",
       "        -0.9414413 ],\n",
       "       [-0.42808807,  1.58911826, -2.03625448, -1.73084632,  0.51883555,\n",
       "        -1.0141138 ],\n",
       "       [-0.42808807, -0.33861291,  0.32060177,  0.39942607,  0.51883555,\n",
       "         0.4364293 ],\n",
       "       [-0.42808807,  0.9465412 , -2.03625448, -1.73084632, -0.58368999,\n",
       "        -1.23067786],\n",
       "       [-0.42808807, -0.33861291,  0.32060177,  0.39942607,  0.51883555,\n",
       "         0.2939912 ],\n",
       "       [-0.42808807, -1.3024785 ,  1.49902989,  1.46456227,  0.51883555,\n",
       "         1.38407871],\n",
       "       [-0.42808807,  0.41106032, -0.85782636, -0.66571012,  1.62136109,\n",
       "        -0.3600613 ],\n",
       "       [-0.42808807,  0.62525268,  0.32060177,  0.39942607, -0.58368999,\n",
       "        -0.1420438 ],\n",
       "       [-0.42808807, -0.98118997,  0.32060177,  0.39942607,  0.51883555,\n",
       "         0.86083671],\n",
       "       [-0.42808807,  1.58911826, -0.85782636, -0.66571012,  1.62136109,\n",
       "        -0.5054063 ],\n",
       "       [-0.42808807, -0.44570909,  0.32060177,  0.39942607, -1.68621553,\n",
       "        -0.09117305],\n",
       "       [ 0.36944587, -1.40957467,  0.32060177, -0.66571012, -0.58368999,\n",
       "         0.83322116],\n",
       "       [-0.42808807, -0.87409379, -0.85782636, -0.66571012, -1.68621553,\n",
       "        -0.5780788 ],\n",
       "       [-0.42808807, -0.98118997,  0.32060177,  0.39942607,  1.62136109,\n",
       "         1.26053546],\n",
       "       [-0.42808807,  1.58911826, -0.85782636, -0.66571012,  0.51883555,\n",
       "        -0.60278745],\n",
       "       [-0.42808807,  0.73234885,  0.32060177,  0.39942607,  0.51883555,\n",
       "        -0.2437853 ],\n",
       "       [-0.42808807, -0.44570909,  0.32060177,  0.39942607,  1.62136109,\n",
       "         0.56287946],\n",
       "       [-0.42808807, -0.55280526,  0.32060177,  0.39942607,  0.51883555,\n",
       "         0.4393362 ],\n",
       "       [-0.42808807, -1.40957467, -0.85782636, -0.66571012, -0.58368999,\n",
       "        -0.4327338 ],\n",
       "       [-0.42808807,  0.62525268, -0.85782636, -0.66571012, -0.58368999,\n",
       "        -0.5780788 ],\n",
       "       [ 0.36944587,  1.58911826,  0.32060177,  0.39942607, -0.58368999,\n",
       "        -0.24233185],\n",
       "       [-0.42808807, -1.3024785 ,  0.32060177,  0.39942607,  0.51883555,\n",
       "         0.80269871],\n",
       "       [-0.42808807, -0.01732438, -0.85782636, -0.66571012,  1.62136109,\n",
       "        -0.2437853 ],\n",
       "       [-0.42808807, -0.98118997,  0.32060177,  0.39942607,  0.51883555,\n",
       "         1.02071621],\n",
       "       [-0.42808807,  1.58911826,  0.32060177,  0.39942607,  1.62136109,\n",
       "        -0.5257546 ],\n",
       "       [-0.42808807, -1.40957467, -0.85782636, -0.66571012, -0.58368999,\n",
       "        -0.2001818 ],\n",
       "       [-0.42808807, -1.40957467,  0.32060177,  0.39942607, -0.58368999,\n",
       "         0.1486462 ],\n",
       "       [ 1.16697981, -0.33861291,  1.49902989,  1.46456227,  0.51883555,\n",
       "         5.51333019],\n",
       "       [-0.42808807,  0.83944503,  0.32060177,  0.39942607, -0.58368999,\n",
       "        -0.1565783 ],\n",
       "       [ 0.36944587, -1.40957467,  0.32060177,  0.39942607, -0.58368999,\n",
       "        -0.4327338 ],\n",
       "       [-0.42808807,  1.37492591,  0.32060177,  0.39942607, -0.58368999,\n",
       "         0.1486462 ],\n",
       "       [-0.42808807, -0.23151673, -0.85782636, -0.66571012,  0.51883555,\n",
       "        -0.2873888 ],\n",
       "       [-0.42808807, -0.76699761,  0.32060177,  0.39942607,  0.51883555,\n",
       "         0.3666637 ],\n",
       "       [-0.42808807,  1.05363738, -2.03625448, -1.73084632, -0.58368999,\n",
       "        -0.9414413 ],\n",
       "       [-0.42808807,  0.62525268,  0.32060177,  0.39942607,  0.51883555,\n",
       "        -0.74522555],\n",
       "       [-0.42808807, -0.12442056,  0.32060177,  0.39942607,  0.51883555,\n",
       "         0.5120087 ],\n",
       "       [-0.42808807, -0.44570909, -2.03625448, -1.73084632, -0.58368999,\n",
       "        -1.05045005],\n",
       "       [-0.42808807, -0.44570909, -0.85782636, -0.66571012, -0.58368999,\n",
       "        -0.7205169 ],\n",
       "       [-0.42808807,  0.62525268, -0.85782636, -0.66571012, -0.58368999,\n",
       "        -0.77429455],\n",
       "       [-0.42808807, -0.44570909, -0.85782636, -0.66571012, -0.58368999,\n",
       "        -0.7292376 ],\n",
       "       [-0.42808807, -0.44570909, -0.85782636, -0.66571012, -0.58368999,\n",
       "        -0.41093205],\n",
       "       [-0.42808807, -0.98118997,  1.49902989,  1.46456227,  1.62136109,\n",
       "         2.83752872],\n",
       "       [-0.42808807, -1.19538232,  1.49902989,  3.59483467,  0.51883555,\n",
       "         4.50899623],\n",
       "       [-0.42808807, -1.19538232,  0.32060177,  0.39942607, -0.58368999,\n",
       "         0.4393362 ],\n",
       "       [-0.42808807,  0.5181565 , -0.85782636, -0.66571012,  1.62136109,\n",
       "         0.09777545],\n",
       "       [-0.42808807, -0.12442056,  0.32060177,  0.39942607,  0.51883555,\n",
       "         1.23873371],\n",
       "       [-0.42808807, -1.08828614,  0.32060177,  0.39942607,  0.51883555,\n",
       "         0.5120087 ],\n",
       "       [-0.42808807,  1.58911826, -0.85782636, -0.66571012,  0.51883555,\n",
       "        -0.5054063 ],\n",
       "       [-0.42808807, -0.44570909,  1.49902989,  1.46456227,  1.62136109,\n",
       "         0.07742715],\n",
       "       [ 3.55958163,  0.30396415,  0.32060177,  0.39942607, -0.58368999,\n",
       "        -0.6507513 ],\n",
       "       [ 0.36944587,  0.83944503,  0.32060177,  0.39942607, -0.58368999,\n",
       "        -0.3600613 ],\n",
       "       [-0.42808807, -0.55280526, -0.85782636, -0.66571012,  1.62136109,\n",
       "        -0.3600613 ],\n",
       "       [-0.42808807, -0.44570909,  1.49902989,  1.46456227,  2.72388663,\n",
       "         1.63407211],\n",
       "       [ 0.36944587,  1.58911826, -0.85782636, -0.66571012,  0.51883555,\n",
       "        -0.28593535],\n",
       "       [-0.42808807,  0.5181565 ,  0.32060177,  0.39942607, -0.58368999,\n",
       "         0.55561221],\n",
       "       [-0.42808807, -0.44570909, -0.85782636, -0.66571012, -1.68621553,\n",
       "        -0.6507513 ]])"
      ]
     },
     "execution_count": 3263,
     "metadata": {},
     "output_type": "execute_result"
    }
   ],
   "source": [
    "print('Val_Shape: ',X_val.shape)\n",
    "print(\"\\nX_val:\")\n",
    "X_val"
   ]
  },
  {
   "cell_type": "code",
   "execution_count": 3264,
   "metadata": {},
   "outputs": [],
   "source": [
    "regressor = RandomForestRegressor(n_estimators = 10, random_state = 0)"
   ]
  },
  {
   "cell_type": "code",
   "execution_count": 3265,
   "metadata": {},
   "outputs": [
    {
     "data": {
      "text/plain": [
       "RandomForestRegressor(bootstrap=True, criterion='mse', max_depth=None,\n",
       "                      max_features='auto', max_leaf_nodes=None,\n",
       "                      min_impurity_decrease=0.0, min_impurity_split=None,\n",
       "                      min_samples_leaf=1, min_samples_split=2,\n",
       "                      min_weight_fraction_leaf=0.0, n_estimators=10,\n",
       "                      n_jobs=None, oob_score=False, random_state=0, verbose=0,\n",
       "                      warm_start=False)"
      ]
     },
     "execution_count": 3265,
     "metadata": {},
     "output_type": "execute_result"
    }
   ],
   "source": [
    "regressor.fit(X_train, y_train)"
   ]
  },
  {
   "cell_type": "code",
   "execution_count": 3266,
   "metadata": {},
   "outputs": [],
   "source": [
    "filename = 'vadodara_house_model.pkl'"
   ]
  },
  {
   "cell_type": "code",
   "execution_count": 3267,
   "metadata": {},
   "outputs": [],
   "source": [
    "pickle.dump(regressor, open(filename, 'wb'))"
   ]
  },
  {
   "cell_type": "code",
   "execution_count": 3268,
   "metadata": {},
   "outputs": [],
   "source": [
    "loaded_model = pickle.load(open(filename, 'rb'))"
   ]
  },
  {
   "cell_type": "code",
   "execution_count": 3269,
   "metadata": {},
   "outputs": [],
   "source": [
    "accuracy = loaded_model.score(X_val, y_val)"
   ]
  },
  {
   "cell_type": "code",
   "execution_count": 3270,
   "metadata": {},
   "outputs": [
    {
     "name": "stdout",
     "output_type": "stream",
     "text": [
      "82.23599039594002 %\n"
     ]
    }
   ],
   "source": [
    "print(accuracy*100, '%')"
   ]
  },
  {
   "cell_type": "code",
   "execution_count": 3271,
   "metadata": {},
   "outputs": [],
   "source": [
    "predictions = loaded_model.predict(X_val)"
   ]
  },
  {
   "cell_type": "code",
   "execution_count": 3272,
   "metadata": {},
   "outputs": [
    {
     "data": {
      "text/plain": [
       "array([ 7509500. , 17865000. ,  2515100. ,  3264400. ,  2557800. ,\n",
       "        2582600. ,  3740100. , 11065500. ,  8630300. ,  3122200. ,\n",
       "        2547600. ,  8291579.5,  3280100. ,  1458100. ,  4014600. ,\n",
       "        1495300. ,  4082561. ,  7977908.4,  2921800. ,  3707100. ,\n",
       "        5898800. ,  2850100. ,  3639900. ,  6982100. ,  3227400. ,\n",
       "        7245100. ,  2322000. ,  2750800. ,  4105200. ,  4054600. ,\n",
       "        3060100. ,  1875500. ,  3776600. ,  9735000. ,  2897400. ,\n",
       "        6126100. ,  4488100. ,  2615300. ,  5655000. , 28390300. ,\n",
       "        3532200. ,  5002500. ,  5419541.5,  3290000. ,  5767000. ,\n",
       "        1257300. ,  3674000. ,  3919000. ,  1430100. ,  3080000. ,\n",
       "        2075000. ,  3080000. ,  4570100. , 12801300. , 24500600. ,\n",
       "        6260300. ,  3261200. ,  7190000. ,  5895200. ,  2572600. ,\n",
       "        6898000. ,  8050000. ,  4220200. ,  2921800. , 14437200. ,\n",
       "        3488689.5,  4973238.5,  2838500. ])"
      ]
     },
     "execution_count": 3272,
     "metadata": {},
     "output_type": "execute_result"
    }
   ],
   "source": [
    "predictions"
   ]
  }
 ],
 "metadata": {
  "kernelspec": {
   "display_name": "Python 3",
   "language": "python",
   "name": "python3"
  },
  "language_info": {
   "codemirror_mode": {
    "name": "ipython",
    "version": 3
   },
   "file_extension": ".py",
   "mimetype": "text/x-python",
   "name": "python",
   "nbconvert_exporter": "python",
   "pygments_lexer": "ipython3",
   "version": "3.7.5"
  }
 },
 "nbformat": 4,
 "nbformat_minor": 2
}
